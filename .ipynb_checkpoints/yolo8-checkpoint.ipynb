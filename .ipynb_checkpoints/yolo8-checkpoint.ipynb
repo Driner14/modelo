{
 "cells": [
  {
   "cell_type": "code",
   "execution_count": 2,
   "id": "99f6ba65-36a3-4c2a-8de9-80d28383290d",
   "metadata": {},
   "outputs": [],
   "source": [
    "import torch \n",
    "from IPython.display import Image"
   ]
  },
  {
   "cell_type": "code",
   "execution_count": 4,
   "id": "441dfc2e-26f9-489e-b281-a1d9eb9fee25",
   "metadata": {},
   "outputs": [
    {
     "name": "stdout",
     "output_type": "stream",
     "text": [
      "D:\\ProyectoBotellas\\yoloV8\n"
     ]
    }
   ],
   "source": [
    "%cd yoloV8"
   ]
  },
  {
   "cell_type": "code",
   "execution_count": null,
   "id": "ab932e0b-6bcf-4390-98a5-33c8cd4b4506",
   "metadata": {},
   "outputs": [],
   "source": []
  }
 ],
 "metadata": {
  "kernelspec": {
   "display_name": "Python 3 (ipykernel)",
   "language": "python",
   "name": "python3"
  },
  "language_info": {
   "codemirror_mode": {
    "name": "ipython",
    "version": 3
   },
   "file_extension": ".py",
   "mimetype": "text/x-python",
   "name": "python",
   "nbconvert_exporter": "python",
   "pygments_lexer": "ipython3",
   "version": "3.11.5"
  }
 },
 "nbformat": 4,
 "nbformat_minor": 5
}
